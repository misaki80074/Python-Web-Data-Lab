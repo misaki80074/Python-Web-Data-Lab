{
  "nbformat": 4,
  "nbformat_minor": 0,
  "metadata": {
    "colab": {
      "provenance": [],
      "authorship_tag": "ABX9TyPWc6ACSZYV5tmkdlJoFK03",
      "include_colab_link": true
    },
    "kernelspec": {
      "name": "python3",
      "display_name": "Python 3"
    },
    "language_info": {
      "name": "python"
    }
  },
  "cells": [
    {
      "cell_type": "markdown",
      "metadata": {
        "id": "view-in-github",
        "colab_type": "text"
      },
      "source": [
        "<a href=\"https://colab.research.google.com/github/misaki80074/Python-Web-Data-Lab/blob/main/data_retrieval_script.ipynb\" target=\"_parent\"><img src=\"https://colab.research.google.com/assets/colab-badge.svg\" alt=\"Open In Colab\"/></a>"
      ]
    },
    {
      "cell_type": "markdown",
      "source": [
        "# 空氣品質指標(AQI)\n",
        "每小時提供各縣市測站之空氣品質指標（AQI）\n",
        "\n",
        "資料來源：https://data.gov.tw/dataset/40448"
      ],
      "metadata": {
        "id": "T12qO9Kyrq40"
      }
    },
    {
      "cell_type": "code",
      "execution_count": null,
      "metadata": {
        "id": "PMucXBDiqAy-"
      },
      "outputs": [],
      "source": [
        "import requests"
      ]
    },
    {
      "cell_type": "code",
      "source": [
        "# 從 API 網址取得資料，並格式化成 JSON\n",
        "def get_data(url):\n",
        "  try:\n",
        "    r= requests.get(url)\n",
        "    r.raise_for_status()\n",
        "    return r.json()\n",
        "  except Exception as e:\n",
        "    print(f\"無法取得資料，請檢察網路連線或 API 狀態：{e}\")\n",
        "    return None;\n",
        "\n",
        "# 從資料中篩選出指定的縣市資料\n",
        "def filter_data(target_county, records):\n",
        "  # 處理臺中市跟台中市都搜尋得到\n",
        "  processed_target_county = target_county.replace('台', '臺')\n",
        "\n",
        "  # 儲存篩選出來的資料\n",
        "  output_list = []\n",
        "  for record in records:\n",
        "    if record['county'] == processed_target_county:\n",
        "      output_list.append(record)\n",
        "\n",
        "  return output_list\n",
        "\n",
        "\n",
        "# 主程式\n",
        "if __name__ == \"__main__\":\n",
        "  url = 'https://data.moenv.gov.tw/api/v2/aqx_p_432?api_key=9e565f9a-84dd-4e79-9097-d403cae1ea75&limit=1000&sort=ImportDate desc&format=JSON'\n",
        "\n",
        "  # 1. 取得 API 資料\n",
        "  res = get_data(url)\n",
        "\n",
        "  if res: # 確認 res 存在再往下執行\n",
        "    #print(res)\n",
        "    records = res.get('records')\n",
        "\n",
        "    if not records:\n",
        "      print(\"API 資料中找不到 records，或 records 為空\")\n",
        "    else:\n",
        "      # 2. 讓使用者輸入\n",
        "      county = input(\"請輸入縣市名稱：\")\n",
        "\n",
        "      # 3. 取得資料\n",
        "      output_list = filter_data(county, records)\n",
        "\n",
        "      # 4. 處理輸出\n",
        "      if output_list:\n",
        "        print(f\"\\n{county}各測站空氣品質：\")\n",
        "\n",
        "        for data in output_list:\n",
        "          print(f\"{data['sitename']}：AQI {data['aqi']}（{data['status']}）\")\n",
        "        print(f\"\\n更新時間：{output_list[0]['publishtime']}\")\n",
        "      else:\n",
        "        print(f\"找不到 {county} 的資料\")\n",
        ""
      ],
      "metadata": {
        "id": "7xxKC274sH5G",
        "colab": {
          "base_uri": "https://localhost:8080/"
        },
        "outputId": "e8f82053-608c-41b9-e128-32eb26246ad6"
      },
      "execution_count": 24,
      "outputs": [
        {
          "output_type": "stream",
          "name": "stdout",
          "text": [
            "請輸入縣市名稱：臺中市\n",
            "\n",
            "臺中市各測站空氣品質：\n",
            "豐原：AQI 43（良好）\n",
            "沙鹿：AQI 37（良好）\n",
            "大里：AQI 44（良好）\n",
            "忠明：AQI 36（良好）\n",
            "西屯：AQI 39（良好）\n",
            "台中市（和平區消防隊）：AQI 45（良好）\n",
            "\n",
            "更新時間：2025/06/30 20:00:00\n"
          ]
        }
      ]
    }
  ]
}